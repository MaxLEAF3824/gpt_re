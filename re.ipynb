{
 "cells": [
  {
   "attachments": {},
   "cell_type": "markdown",
   "metadata": {},
   "source": [
    "LLM控制面板"
   ]
  },
  {
   "cell_type": "code",
   "execution_count": 1,
   "metadata": {},
   "outputs": [
    {
     "data": {
      "application/vnd.jupyter.widget-view+json": {
       "model_id": "c0784e4bd09947d0ad7961c721259d29",
       "version_major": 2,
       "version_minor": 0
      },
      "text/plain": [
       "LLMPanel(children=(HBox(children=(Dropdown(description='Model:', options=(('gpt2', '/home/cs/yangyuchen/guoyiq…"
      ]
     },
     "metadata": {},
     "output_type": "display_data"
    },
    {
     "data": {
      "application/vnd.jupyter.widget-view+json": {
       "model_id": "82c03f01ae4b4edda5c45659e217f708",
       "version_major": 2,
       "version_minor": 0
      },
      "text/plain": [
       "Loading checkpoint shards:   0%|          | 0/2 [00:00<?, ?it/s]"
      ]
     },
     "metadata": {},
     "output_type": "display_data"
    },
    {
     "name": "stderr",
     "output_type": "stream",
     "text": [
      "Using pad_token, but it is not set yet.\n"
     ]
    },
    {
     "name": "stdout",
     "output_type": "stream",
     "text": [
      "Everything is ready. Time cost: 11.92s\n"
     ]
    }
   ],
   "source": [
    "import sys\n",
    "sys.path.append(\"../\")\n",
    "from model import *\n",
    "from IPython.display import display\n",
    "\n",
    "# import os\n",
    "# os.environ['CUDA_VISIBLE_DEVICES'] = '6'\n",
    "\n",
    "vicuna_chat_template = \"A chat between a curious user and an artificial intelligence assistant. The assistant gives helpful, detailed, and polite answers to the user's questions.\\n\\n##USER:\\n{}\\n\\n##ASSISTANT:\\n\"\n",
    "internlm_chat_template = \"<|User|>:{}<eoh>\\n<|Bot|>:\"\n",
    "\n",
    "panel = LLMPanel(\n",
    "    model_list=[\n",
    "        (\"gpt2\", \"/home/cs/yangyuchen/guoyiqiu/my_models/gpt2\"),\n",
    "        (\"llama_7b\", \"/home/cs/yangyuchen/yushengliao/Medical_LLM/llama-7b-hf\"),\n",
    "        (\"llama_13b\", \"/home/cs/yangyuchen/yushengliao/Medical_LLM/llama-13b\"),\n",
    "        (\"llama-2-7b-chat\", \"/home/cs/yangyuchen/yushengliao/Medical_LLM/llama-2-7b-chat-hugging\"),\n",
    "        (\"llama-2-13b-chat\", \"/home/cs/yangyuchen/guoyiqiu/my_models/Llama-2-13b-chat-ms\"),\n",
    "        (\"vicuna_7b\", \"/home/cs/yangyuchen/yushengliao/Medical_LLM/vicuna-7b/\"),\n",
    "        (\"internlm-chat-7b\", \"/home/cs/yangyuchen/yushengliao/Medical_LLM/internlm-chat-7b\"),\n",
    "        (\"internlm-chat-20b\", \"/home/cs/yangyuchen/guoyiqiu/my_models/internlm-chat-20b\")\n",
    "        ],\n",
    "    chat_template=internlm_chat_template)\n",
    "\n",
    "display(panel)"
   ]
  },
  {
   "attachments": {},
   "cell_type": "markdown",
   "metadata": {},
   "source": [
    "FlowVisualizer"
   ]
  },
  {
   "cell_type": "code",
   "execution_count": null,
   "metadata": {},
   "outputs": [],
   "source": [
    "utokens_tab, entropy_tab = panel.mt.vis_sentence(f'hello world',max_new_tokens=64)\n",
    "utokens_tab.render_notebook()"
   ]
  },
  {
   "cell_type": "markdown",
   "metadata": {},
   "source": [
    "MultiGPU Inference"
   ]
  },
  {
   "cell_type": "code",
   "execution_count": 14,
   "metadata": {},
   "outputs": [
    {
     "name": "stdout",
     "output_type": "stream",
     "text": [
      "子进程的进程号: 2600663\n"
     ]
    },
    {
     "name": "stderr",
     "output_type": "stream",
     "text": [
      "WARNING:torch.distributed.run:\n",
      "*****************************************\n",
      "Setting OMP_NUM_THREADS environment variable for each process to be 1 in default, to avoid your system being overloaded, please further tune the variable for optimal performance in your application as needed. \n",
      "*****************************************\n"
     ]
    },
    {
     "name": "stdout",
     "output_type": "stream",
     "text": [
      "model_path: /home/cs/yangyuchen/yushengliao/Medical_LLM/llama-2-7b-chat-hugging\n",
      " save_path: /home/cs/yangyuchen/guoyiqiu/kg_llm/data/pubmedqa/rewrite_pubmedqa_context.json\n",
      " bos_token:1 <s>\n",
      " eos_token:2 </s>\n",
      " world_size: 8\n",
      " CUDA_VISIBLE_DEVICES: None\n",
      " kwargs: {'mnt': 64}\n",
      "\n"
     ]
    },
    {
     "name": "stderr",
     "output_type": "stream",
     "text": [
      "Loading checkpoint shards: 100%|██████████| 2/2 [00:15<00:00,  7.89s/it]\n",
      "Loading checkpoint shards: 100%|██████████| 2/2 [00:15<00:00,  7.90s/it]\n",
      "Loading checkpoint shards: 100%|██████████| 2/2 [00:15<00:00,  7.96s/it]\n",
      "Loading checkpoint shards: 100%|██████████| 2/2 [00:15<00:00,  8.00s/it]\n",
      "Loading checkpoint shards: 100%|██████████| 2/2 [00:15<00:00,  8.00s/it]\n",
      "Loading checkpoint shards: 100%|██████████| 2/2 [00:15<00:00,  7.99s/it]\n",
      "Loading checkpoint shards: 100%|██████████| 2/2 [00:16<00:00,  8.00s/it]\n",
      "Loading checkpoint shards: 100%|██████████| 2/2 [00:16<00:00,  8.00s/it]\n"
     ]
    },
    {
     "name": "stdout",
     "output_type": "stream",
     "text": [
      "mnt:  64\n",
      "dst length:  100\n",
      "mnt:  64\n"
     ]
    },
    {
     "name": "stderr",
     "output_type": "stream",
     "text": [
      "  0%|          | 0/12 [00:00<?, ?it/s]"
     ]
    },
    {
     "name": "stdout",
     "output_type": "stream",
     "text": [
      "mnt:  64\n",
      "mnt:  64\n",
      "mnt:  64\n",
      "mnt:  64\n"
     ]
    },
    {
     "name": "stderr",
     "output_type": "stream",
     "text": [
      "  0%|          | 0/12 [00:00<?, ?it/s]"
     ]
    },
    {
     "name": "stdout",
     "output_type": "stream",
     "text": [
      "mnt:  64\n",
      "mnt:  64\n"
     ]
    },
    {
     "name": "stderr",
     "output_type": "stream",
     "text": [
      "100%|██████████| 12/12 [00:18<00:00,  1.54s/it]\n",
      "100%|██████████| 12/12 [00:19<00:00,  1.60s/it]\n",
      "100%|██████████| 12/12 [00:19<00:00,  1.60s/it]\n",
      "100%|██████████| 12/12 [00:19<00:00,  1.61s/it]\n",
      "100%|██████████| 12/12 [00:19<00:00,  1.61s/it]\n",
      "100%|██████████| 12/12 [00:19<00:00,  1.63s/it]\n",
      "100%|██████████| 12/12 [00:19<00:00,  1.61s/it]\n",
      " 81%|████████▏ | 13/16 [00:20<00:04,  1.50s/it]WARNING:torch.distributed.elastic.multiprocessing.api:Sending process 2600737 closing signal SIGTERM\n",
      "WARNING:torch.distributed.elastic.multiprocessing.api:Sending process 2600743 closing signal SIGTERM\n",
      "ERROR:torch.distributed.elastic.multiprocessing.api:failed (exitcode: -11) local_rank: 0 (pid: 2600736) of binary: /home/cs/yangyuchen/miniconda3/envs/med_llm_gyq/bin/python\n",
      "Traceback (most recent call last):\n",
      "  File \"/home/cs/yangyuchen/miniconda3/envs/med_llm_gyq/bin/torchrun\", line 8, in <module>\n",
      "    sys.exit(main())\n",
      "  File \"/home/cs/yangyuchen/miniconda3/envs/med_llm_gyq/lib/python3.9/site-packages/torch/distributed/elastic/multiprocessing/errors/__init__.py\", line 346, in wrapper\n",
      "    return f(*args, **kwargs)\n",
      "  File \"/home/cs/yangyuchen/miniconda3/envs/med_llm_gyq/lib/python3.9/site-packages/torch/distributed/run.py\", line 794, in main\n",
      "    run(args)\n",
      "  File \"/home/cs/yangyuchen/miniconda3/envs/med_llm_gyq/lib/python3.9/site-packages/torch/distributed/run.py\", line 785, in run\n",
      "    elastic_launch(\n",
      "  File \"/home/cs/yangyuchen/miniconda3/envs/med_llm_gyq/lib/python3.9/site-packages/torch/distributed/launcher/api.py\", line 134, in __call__\n",
      "    return launch_agent(self._config, self._entrypoint, list(args))\n",
      "  File \"/home/cs/yangyuchen/miniconda3/envs/med_llm_gyq/lib/python3.9/site-packages/torch/distributed/launcher/api.py\", line 250, in launch_agent\n",
      "    raise ChildFailedError(\n",
      "torch.distributed.elastic.multiprocessing.errors.ChildFailedError: \n",
      "============================================================\n",
      "/home/cs/yangyuchen/guoyiqiu/gpt_re/experiments/mgpu_infer.py FAILED\n",
      "------------------------------------------------------------\n",
      "Failures:\n",
      "[1]:\n",
      "  time      : 2023-10-16_10:12:37\n",
      "  host      : gnode10.hanhai22.scc.ustc.edu.cn\n",
      "  rank      : 2 (local_rank: 2)\n",
      "  exitcode  : -11 (pid: 2600738)\n",
      "  error_file: <N/A>\n",
      "  traceback : Signal 11 (SIGSEGV) received by PID 2600738\n",
      "[2]:\n",
      "  time      : 2023-10-16_10:12:37\n",
      "  host      : gnode10.hanhai22.scc.ustc.edu.cn\n",
      "  rank      : 3 (local_rank: 3)\n",
      "  exitcode  : -11 (pid: 2600739)\n",
      "  error_file: <N/A>\n",
      "  traceback : Signal 11 (SIGSEGV) received by PID 2600739\n",
      "[3]:\n",
      "  time      : 2023-10-16_10:12:37\n",
      "  host      : gnode10.hanhai22.scc.ustc.edu.cn\n",
      "  rank      : 4 (local_rank: 4)\n",
      "  exitcode  : -11 (pid: 2600740)\n",
      "  error_file: <N/A>\n",
      "  traceback : Signal 11 (SIGSEGV) received by PID 2600740\n",
      "[4]:\n",
      "  time      : 2023-10-16_10:12:37\n",
      "  host      : gnode10.hanhai22.scc.ustc.edu.cn\n",
      "  rank      : 5 (local_rank: 5)\n",
      "  exitcode  : -11 (pid: 2600741)\n",
      "  error_file: <N/A>\n",
      "  traceback : Signal 11 (SIGSEGV) received by PID 2600741\n",
      "[5]:\n",
      "  time      : 2023-10-16_10:12:37\n",
      "  host      : gnode10.hanhai22.scc.ustc.edu.cn\n",
      "  rank      : 6 (local_rank: 6)\n",
      "  exitcode  : -11 (pid: 2600742)\n",
      "  error_file: <N/A>\n",
      "  traceback : Signal 11 (SIGSEGV) received by PID 2600742\n",
      "------------------------------------------------------------\n",
      "Root Cause (first observed failure):\n",
      "[0]:\n",
      "  time      : 2023-10-16_10:12:37\n",
      "  host      : gnode10.hanhai22.scc.ustc.edu.cn\n",
      "  rank      : 0 (local_rank: 0)\n",
      "  exitcode  : -11 (pid: 2600736)\n",
      "  error_file: <N/A>\n",
      "  traceback : Signal 11 (SIGSEGV) received by PID 2600736\n",
      "============================================================\n"
     ]
    }
   ],
   "source": [
    "import subprocess\n",
    "\n",
    "gpu\n",
    "command = \"torchrun --nproc_per_node 8 --master_port=12570 /home/cs/yangyuchen/guoyiqiu/gpt_re/model/mgpu_infer.py --model_path /home/cs/yangyuchen/yushengliao/Medical_LLM/llama-2-7b-chat-hugging --dst_path /home/cs/yangyuchen/guoyiqiu/kg_llm/data/pubmedqa/pubmedqa_context.json --save_path /home/cs/yangyuchen/guoyiqiu/kg_llm/data/pubmedqa/rewrite_pubmedqa_context.json --mnt 6\"\n",
    "process = subprocess.Popen(command, shell=True)\n",
    "# 获取子进程的进程号\n",
    "pid = process.pid\n",
    "print(\"子进程的进程号:\", pid)\n",
    "\n",
    "# 继续执行其他代码块\n"
   ]
  },
  {
   "cell_type": "code",
   "execution_count": 18,
   "metadata": {},
   "outputs": [
    {
     "data": {
      "text/plain": [
       "[0, 1, 2, 3, 4, 5, 6, 7]"
      ]
     },
     "execution_count": 18,
     "metadata": {},
     "output_type": "execute_result"
    }
   ],
   "source": [
    "import gpustat\n",
    "\n",
    "def get_free_gpus():\n",
    "    free_gpu_indexs = []\n",
    "    gpus = gpustat.new_query()\n",
    "    for gpu in gpus:\n",
    "        if gpu.memory_used == 0 or (gpu.utilization <= 10 and gpu.memory_used < 5000):\n",
    "            free_gpu_indexs.append(gpu.index)\n",
    "    return free_gpu_indexs\n",
    "\n",
    "get_free_gpus()"
   ]
  },
  {
   "cell_type": "markdown",
   "metadata": {},
   "source": [
    "LAT"
   ]
  },
  {
   "cell_type": "code",
   "execution_count": null,
   "metadata": {},
   "outputs": [],
   "source": [
    "def pca():\n",
    "    pass\n",
    "\n",
    "def make_stimuli_set():\n",
    "    pass\n",
    "\n",
    "def lat(mt, stimuli_set, concept):"
   ]
  }
 ],
 "metadata": {
  "kernelspec": {
   "display_name": "hug42",
   "language": "python",
   "name": "python3"
  },
  "language_info": {
   "codemirror_mode": {
    "name": "ipython",
    "version": 3
   },
   "file_extension": ".py",
   "mimetype": "text/x-python",
   "name": "python",
   "nbconvert_exporter": "python",
   "pygments_lexer": "ipython3",
   "version": "3.9.16"
  },
  "orig_nbformat": 4,
  "vscode": {
   "interpreter": {
    "hash": "6cdd458a31eba722ab7b98fdf16d48af2e10cc66366abf20948be409b0a7311f"
   }
  }
 },
 "nbformat": 4,
 "nbformat_minor": 2
}
