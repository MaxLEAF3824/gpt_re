{
 "cells": [
  {
   "attachments": {},
   "cell_type": "markdown",
   "metadata": {},
   "source": [
    "LLM控制面板"
   ]
  },
  {
   "cell_type": "code",
   "execution_count": 1,
   "metadata": {},
   "outputs": [
    {
     "data": {
      "application/vnd.jupyter.widget-view+json": {
       "model_id": "ced38cc744f04944b82888eff66eaf9c",
       "version_major": 2,
       "version_minor": 0
      },
      "text/plain": [
       "LLMPanel(children=(HBox(children=(Dropdown(description='Model:', options=(('gpt2', '/home/cs/yangyuchen/guoyiq…"
      ]
     },
     "metadata": {},
     "output_type": "display_data"
    },
    {
     "data": {
      "application/vnd.jupyter.widget-view+json": {
       "model_id": "41f57dfd39a143f391d0f0b80f76a7bf",
       "version_major": 2,
       "version_minor": 0
      },
      "text/plain": [
       "Loading checkpoint shards:   0%|          | 0/2 [00:00<?, ?it/s]"
      ]
     },
     "metadata": {},
     "output_type": "display_data"
    },
    {
     "name": "stdout",
     "output_type": "stream",
     "text": [
      "Everything is ready. Time cost: 24.10s\n"
     ]
    }
   ],
   "source": [
    "from model import LLMPanel, INTERNLM_TEMPLATE, VICUNA_TEMPLATE\n",
    "from IPython.display import display\n",
    "\n",
    "model_list = [\n",
    "        (\"gpt2\", \"/home/cs/yangyuchen/guoyiqiu/my_models/gpt2\"),\n",
    "        (\"llama_7b\", \"/home/cs/yangyuchen/yushengliao/Medical_LLM/llama-7b-hf\"),\n",
    "        (\"llama_13b\", \"/home/cs/yangyuchen/yushengliao/Medical_LLM/llama-13b\"),\n",
    "        (\"llama-2-7b-chat\", \"/home/cs/yangyuchen/yushengliao/Medical_LLM/llama-2-7b-chat-hugging\"),\n",
    "        (\"llama-2-13b-chat\", \"/home/cs/yangyuchen/guoyiqiu/my_models/Llama-2-13b-chat-ms\"),\n",
    "        (\"vicuna_7b\", \"/home/cs/yangyuchen/yushengliao/Medical_LLM/vicuna-7b/\"),\n",
    "        (\"internlm-chat-7b\", \"/home/cs/yangyuchen/yushengliao/Medical_LLM/internlm-chat-7b\"),\n",
    "        (\"internlm-chat-20b\", \"/home/cs/yangyuchen/guoyiqiu/my_models/internlm-chat-20b\"),\n",
    "    ]\n",
    "\n",
    "panel = LLMPanel(model_list, chat_template=INTERNLM_TEMPLATE)\n",
    "display(panel)"
   ]
  },
  {
   "cell_type": "markdown",
   "metadata": {},
   "source": [
    "LAT"
   ]
  },
  {
   "cell_type": "code",
   "execution_count": null,
   "metadata": {},
   "outputs": [],
   "source": [
    "import json\n",
    "from model import LLMHooker, LLMHookConfig\n",
    "HONESTY_EXTRACTION_TEMPLATE_EXP = \"\"\"<|User|>:Pretend you’re an honest person making statements about the world.<eoh>\\n<|Bot|>:{stimulus}\"\"\"\n",
    "HONESTY_EXTRACTION_TEMPLATE_REF = \"\"\"<|User|>:Pretend you’re a dishonest person making statements about the world.<eoh>\\n<|Bot|>:{stimulus}\"\"\"\n",
    "tf_dataset = json.load(open(\"data/true_false_dataset.json\"))\n",
    "\n",
    "def pca():\n",
    "    pass\n",
    "\n",
    "def make_function_stimuli_dataset(tmp_t, tmp_f, dst):\n",
    "    stimuli_dst = []\n",
    "    dst_t = [d for d in dst if d['label']]\n",
    "    dst_f = [d for d in dst if not d['label']]\n",
    "    length = min(len(dst_t),len(dst_f))\n",
    "    dst_t = dst_t[:length]\n",
    "    dst_f = dst_f[:length]\n",
    "    for t,f in zip(dst_t,dst_f):\n",
    "        stimuli_dst.append([dict(input=tmp_t.format(stimulus=t['input']),label=True), dict(input=tmp_f.format(stimulus=f['input']),label=False)])\n",
    "    return stimuli_dst\n",
    "\n",
    "def lat(mt, stimuli_dst, k=5):\n",
    "    hook_configs = [LLMHookConfig(module_name='block', layer=l) for l in mt.n_layer]\n",
    "    with LLMHooker(mt, hook_configs) as hooker:\n",
    "        for pair in stimuli_dst:\n",
    "            for d in pair:\n",
    "                "
   ]
  }
 ],
 "metadata": {
  "kernelspec": {
   "display_name": "hug42",
   "language": "python",
   "name": "python3"
  },
  "language_info": {
   "codemirror_mode": {
    "name": "ipython",
    "version": 3
   },
   "file_extension": ".py",
   "mimetype": "text/x-python",
   "name": "python",
   "nbconvert_exporter": "python",
   "pygments_lexer": "ipython3",
   "version": "3.9.16"
  },
  "orig_nbformat": 4,
  "vscode": {
   "interpreter": {
    "hash": "6cdd458a31eba722ab7b98fdf16d48af2e10cc66366abf20948be409b0a7311f"
   }
  }
 },
 "nbformat": 4,
 "nbformat_minor": 2
}
