{
 "cells": [
  {
   "attachments": {},
   "cell_type": "markdown",
   "metadata": {},
   "source": [
    "LLM控制面板"
   ]
  },
  {
   "cell_type": "code",
   "execution_count": 2,
   "metadata": {},
   "outputs": [
    {
     "data": {
      "application/vnd.jupyter.widget-view+json": {
       "model_id": "f8795ee0a00640d59413b60a07f3e15c",
       "version_major": 2,
       "version_minor": 0
      },
      "text/plain": [
       "LLMPanel(children=(HBox(children=(Dropdown(description='Model:', options=(('gpt2', '/home/cs/yangyuchen/guoyiq…"
      ]
     },
     "metadata": {},
     "output_type": "display_data"
    }
   ],
   "source": [
    "from model import *\n",
    "from IPython.display import display\n",
    "\n",
    "model_list = [\n",
    "        (\"gpt2\", \"/home/cs/yangyuchen/guoyiqiu/my_models/gpt2\"),\n",
    "        (\"llama_7b\", \"/home/cs/yangyuchen/yushengliao/Medical_LLM/llama-7b-hf\"),\n",
    "        (\"llama_13b\", \"/home/cs/yangyuchen/yushengliao/Medical_LLM/llama-13b\"),\n",
    "        (\"llama-2-7b-chat\", \"/home/cs/yangyuchen/yushengliao/Medical_LLM/llama-2-7b-chat-hugging\"),\n",
    "        (\"llama-2-13b-chat\", \"/home/cs/yangyuchen/guoyiqiu/my_models/Llama-2-13b-chat-ms\"),\n",
    "        (\"vicuna_7b\", \"/home/cs/yangyuchen/yushengliao/Medical_LLM/vicuna-7b/\"),\n",
    "        (\"internlm-chat-7b\", \"/home/cs/yangyuchen/yushengliao/Medical_LLM/internlm-chat-7b\"),\n",
    "        (\"internlm-chat-20b\", \"/home/cs/yangyuchen/guoyiqiu/my_models/internlm-chat-20b\"),\n",
    "    ]\n",
    "\n",
    "panel = LLMPanel(model_list, chat_template=INTERNLM_TEMPLATE)\n",
    "display(panel)"
   ]
  },
  {
   "attachments": {},
   "cell_type": "markdown",
   "metadata": {},
   "source": [
    "FlowVisualizer"
   ]
  },
  {
   "cell_type": "code",
   "execution_count": null,
   "metadata": {},
   "outputs": [],
   "source": [
    "utokens_tab, entropy_tab = panel.mt.vis_sentence(f'hello world',max_new_tokens=64)\n",
    "utokens_tab.render_notebook()"
   ]
  },
  {
   "cell_type": "code",
   "execution_count": 67,
   "metadata": {},
   "outputs": [],
   "source": [
    "import json\n",
    "import jsonlines\n",
    "\n",
    "usmle_test = list(jsonlines.open(\"data/usmle/questions/US/test.jsonl\"))\n",
    "usmle_test_for_infer = []\n",
    "\n",
    "for d in usmle_test:\n",
    "    options_strs = [f\"{op}: {d['options'][op]}\" for op in d['options']]\n",
    "    input = f\"Question: {d['question']} Options: {'; '.join(options_strs)}. Output: The correct answer is option\"\n",
    "    input = INTERNLM_TEMPLATE.format(input)\n",
    "    d['input'] = input\n",
    "    d['labels'] = ['A', 'B', 'C', 'D', 'E']\n",
    "    usmle_test_for_infer.append(d)\n",
    "    \n",
    "json.dump(usmle_test_for_infer, open(\"data/mgpu_infer/usmle_test_inference.json\", \"w\"), indent=4)"
   ]
  },
  {
   "cell_type": "markdown",
   "metadata": {},
   "source": [
    "MultiGPU Inference"
   ]
  },
  {
   "cell_type": "code",
   "execution_count": 2,
   "metadata": {},
   "outputs": [
    {
     "name": "stdout",
     "output_type": "stream",
     "text": [
      "shell process id: 2721500\n"
     ]
    },
    {
     "name": "stderr",
     "output_type": "stream",
     "text": [
      "[2023-10-16 15:57:27,873] torch.distributed.run: [WARNING] \n",
      "[2023-10-16 15:57:27,873] torch.distributed.run: [WARNING] *****************************************\n",
      "[2023-10-16 15:57:27,873] torch.distributed.run: [WARNING] Setting OMP_NUM_THREADS environment variable for each process to be 1 in default, to avoid your system being overloaded, please further tune the variable for optimal performance in your application as needed. \n",
      "[2023-10-16 15:57:27,873] torch.distributed.run: [WARNING] *****************************************\n",
      "Using pad_token, but it is not set yet.\n",
      "Using pad_token, but it is not set yet.\n",
      "Using pad_token, but it is not set yet.\n",
      "Using pad_token, but it is not set yet.\n",
      "Using pad_token, but it is not set yet.\n",
      "Using pad_token, but it is not set yet.\n",
      "Using pad_token, but it is not set yet.\n",
      "Using pad_token, but it is not set yet.\n"
     ]
    },
    {
     "name": "stdout",
     "output_type": "stream",
     "text": [
      "model_path: /home/cs/yangyuchen/yushengliao/Medical_LLM/vicuna-7b/\n",
      " dst_path: /home/cs/yangyuchen/guoyiqiu/gpt_re/data/mgpu_infer/usmle_test_inference.json\n",
      " save_path: /home/cs/yangyuchen/guoyiqiu/gpt_re/data/mgpu_infer_output/vicuna-7b_usmle_test_generate.json\n",
      " func: multigpu_generate\n",
      " seed: 42\n",
      " kwargs: {'mnt': 8}\n",
      " bos_token:1 <s>\n",
      " eos_token:2 </s>\n",
      " pad_token:2 </s>\n",
      " world_size: 8\n",
      " CUDA_VISIBLE_DEVICES: 0,1,2,3,4,5,6,7\n",
      "\n"
     ]
    },
    {
     "name": "stderr",
     "output_type": "stream",
     "text": [
      "Loading checkpoint shards: 100%|██████████| 2/2 [00:13<00:00,  6.80s/it]\n",
      "Loading checkpoint shards: 100%|██████████| 2/2 [00:13<00:00,  6.89s/it]\n",
      "Loading checkpoint shards: 100%|██████████| 2/2 [00:13<00:00,  6.98s/it]\n",
      "Loading checkpoint shards: 100%|██████████| 2/2 [00:14<00:00,  7.02s/it]\n",
      "Loading checkpoint shards: 100%|██████████| 2/2 [00:14<00:00,  7.09s/it]\n",
      "Loading checkpoint shards: 100%|██████████| 2/2 [00:14<00:00,  7.12s/it]\n",
      "Loading checkpoint shards: 100%|██████████| 2/2 [00:14<00:00,  7.19s/it]\n",
      "Loading checkpoint shards: 100%|██████████| 2/2 [00:15<00:00,  7.75s/it]\n",
      "  0%|          | 0/159 [00:00<?, ?it/s]/home/cs/yangyuchen/miniconda3/envs/med_llm_gyq/lib/python3.9/site-packages/transformers/generation/utils.py:1421: UserWarning: You have modified the pretrained model configuration to control generation. This is a deprecated strategy to control generation and will be removed soon, in a future version. Please use and modify the model generation configuration (see https://huggingface.co/docs/transformers/generation_strategies#default-text-generation-configuration )\n",
      "  warnings.warn(\n",
      "  0%|          | 0/159 [00:00<?, ?it/s]/home/cs/yangyuchen/miniconda3/envs/med_llm_gyq/lib/python3.9/site-packages/transformers/generation/utils.py:1421: UserWarning: You have modified the pretrained model configuration to control generation. This is a deprecated strategy to control generation and will be removed soon, in a future version. Please use and modify the model generation configuration (see https://huggingface.co/docs/transformers/generation_strategies#default-text-generation-configuration )\n",
      "  warnings.warn(\n",
      "  0%|          | 0/159 [00:00<?, ?it/s]/home/cs/yangyuchen/miniconda3/envs/med_llm_gyq/lib/python3.9/site-packages/transformers/generation/utils.py:1421: UserWarning: You have modified the pretrained model configuration to control generation. This is a deprecated strategy to control generation and will be removed soon, in a future version. Please use and modify the model generation configuration (see https://huggingface.co/docs/transformers/generation_strategies#default-text-generation-configuration )\n",
      "  warnings.warn(\n",
      "  0%|          | 0/160 [00:00<?, ?it/s]/home/cs/yangyuchen/miniconda3/envs/med_llm_gyq/lib/python3.9/site-packages/transformers/generation/utils.py:1421: UserWarning: You have modified the pretrained model configuration to control generation. This is a deprecated strategy to control generation and will be removed soon, in a future version. Please use and modify the model generation configuration (see https://huggingface.co/docs/transformers/generation_strategies#default-text-generation-configuration )\n",
      "  warnings.warn(\n"
     ]
    },
    {
     "name": "stdout",
     "output_type": "stream",
     "text": [
      "dst size:  1273\n"
     ]
    },
    {
     "name": "stderr",
     "output_type": "stream",
     "text": [
      "  0%|          | 0/159 [00:00<?, ?it/s]/home/cs/yangyuchen/miniconda3/envs/med_llm_gyq/lib/python3.9/site-packages/transformers/generation/utils.py:1421: UserWarning: You have modified the pretrained model configuration to control generation. This is a deprecated strategy to control generation and will be removed soon, in a future version. Please use and modify the model generation configuration (see https://huggingface.co/docs/transformers/generation_strategies#default-text-generation-configuration )\n",
      "  warnings.warn(\n",
      "  2%|▏         | 3/159 [00:02<01:35,  1.63it/s]/home/cs/yangyuchen/miniconda3/envs/med_llm_gyq/lib/python3.9/site-packages/transformers/generation/utils.py:1421: UserWarning: You have modified the pretrained model configuration to control generation. This is a deprecated strategy to control generation and will be removed soon, in a future version. Please use and modify the model generation configuration (see https://huggingface.co/docs/transformers/generation_strategies#default-text-generation-configuration )\n",
      "  warnings.warn(\n",
      "  0%|          | 0/159 [00:00<?, ?it/s]/home/cs/yangyuchen/miniconda3/envs/med_llm_gyq/lib/python3.9/site-packages/transformers/generation/utils.py:1421: UserWarning: You have modified the pretrained model configuration to control generation. This is a deprecated strategy to control generation and will be removed soon, in a future version. Please use and modify the model generation configuration (see https://huggingface.co/docs/transformers/generation_strategies#default-text-generation-configuration )\n",
      "  warnings.warn(\n",
      "  0%|          | 0/159 [00:00<?, ?it/s]/home/cs/yangyuchen/miniconda3/envs/med_llm_gyq/lib/python3.9/site-packages/transformers/generation/utils.py:1421: UserWarning: You have modified the pretrained model configuration to control generation. This is a deprecated strategy to control generation and will be removed soon, in a future version. Please use and modify the model generation configuration (see https://huggingface.co/docs/transformers/generation_strategies#default-text-generation-configuration )\n",
      "  warnings.warn(\n",
      "100%|██████████| 159/159 [01:03<00:00,  2.49it/s]\n",
      "100%|██████████| 159/159 [01:04<00:00,  2.46it/s]\n"
     ]
    },
    {
     "name": "stdout",
     "output_type": "stream",
     "text": [
      "rank 0 waiting for collecting results...\n"
     ]
    },
    {
     "name": "stderr",
     "output_type": "stream",
     "text": [
      "100%|██████████| 159/159 [01:04<00:00,  2.45it/s]\n",
      "100%|██████████| 159/159 [01:05<00:00,  2.44it/s]\n",
      "100%|██████████| 160/160 [01:06<00:00,  2.39it/s]\n",
      "100%|██████████| 159/159 [01:05<00:00,  2.43it/s]\n",
      "100%|██████████| 159/159 [01:06<00:00,  2.40it/s]\n",
      "100%|██████████| 159/159 [01:04<00:00,  2.46it/s]\n"
     ]
    },
    {
     "name": "stdout",
     "output_type": "stream",
     "text": [
      "all done.\n"
     ]
    }
   ],
   "source": [
    "from model.llm_utils import get_free_gpus\n",
    "import subprocess\n",
    "\n",
    "free_gpus = get_free_gpus()\n",
    "command = f'CUDA_VISIBLE_DEVICES={\",\".join([str(i) for i in free_gpus])} \\\n",
    "            torchrun --nproc_per_node {len(free_gpus)} --master_port=12570 /home/cs/yangyuchen/guoyiqiu/gpt_re/model/mgpu_infer.py \\\n",
    "            --func gen \\\n",
    "            --model_path /home/cs/yangyuchen/yushengliao/Medical_LLM/vicuna-7b/ \\\n",
    "            --dst_path /home/cs/yangyuchen/guoyiqiu/gpt_re/data/mgpu_infer/usmle_test_inference.json \\\n",
    "            --save_path /home/cs/yangyuchen/guoyiqiu/gpt_re/data/mgpu_infer_output/vicuna-7b_usmle_test_generate.json \\\n",
    "            --mnt 8'\n",
    "process = subprocess.Popen(command, shell=True)\n",
    "print(f\"shell process id: {process.pid}\")"
   ]
  },
  {
   "cell_type": "code",
   "execution_count": 65,
   "metadata": {},
   "outputs": [
    {
     "name": "stdout",
     "output_type": "stream",
     "text": [
      "inference_acc: 0.3448546739984289\n",
      "generate_acc: 0.3440691280439906\n",
      "i_g: 0.9748625294579732\n"
     ]
    }
   ],
   "source": [
    "import json\n",
    "import numpy as np\n",
    "\n",
    "\n",
    "internlm_chat_7b_usmle_test_generate = json.load(open('data/mgpu_infer_output/internlm-chat-7b_usmle_test_generate_chat.json'))\n",
    "internlm_chat_7b_usmle_test_inference = json.load(open('data/mgpu_infer_output/internlm-chat-7b_usmle_test_inference_chat.json'))\n",
    "\n",
    "inference_acc = 0\n",
    "generate_acc = 0\n",
    "i_g = 0\n",
    "for di,dg in zip(internlm_chat_7b_usmle_test_inference, internlm_chat_7b_usmle_test_generate):\n",
    "    pred_i = ['A','B','C','D','E'][np.argmin(di['label_loss'])]\n",
    "    pred_g = dg['output'].replace(\"<eoa>\",\"\").replace(\"</s>\",\"\").strip()[0]\n",
    "    gt = di['answer_idx']\n",
    "    inference_acc += (pred_i == gt)\n",
    "    generate_acc += (pred_g == gt)\n",
    "    i_g += (pred_i == pred_g)\n",
    "    \n",
    "print(f\"inference_acc: {inference_acc/len(internlm_chat_7b_usmle_test_inference)}\")\n",
    "print(f\"generate_acc: {generate_acc/len(internlm_chat_7b_usmle_test_inference)}\")\n",
    "print(f\"i_g: {i_g/len(internlm_chat_7b_usmle_test_inference)}\")"
   ]
  },
  {
   "cell_type": "markdown",
   "metadata": {},
   "source": [
    "LAT"
   ]
  },
  {
   "cell_type": "code",
   "execution_count": null,
   "metadata": {},
   "outputs": [],
   "source": [
    "def pca():\n",
    "    pass\n",
    "\n",
    "def make_stimuli_set():\n",
    "    pass\n",
    "\n",
    "def lat(mt, stimuli_set, concept):\n",
    "    pass"
   ]
  }
 ],
 "metadata": {
  "kernelspec": {
   "display_name": "hug42",
   "language": "python",
   "name": "python3"
  },
  "language_info": {
   "codemirror_mode": {
    "name": "ipython",
    "version": 3
   },
   "file_extension": ".py",
   "mimetype": "text/x-python",
   "name": "python",
   "nbconvert_exporter": "python",
   "pygments_lexer": "ipython3",
   "version": "3.9.16"
  },
  "orig_nbformat": 4,
  "vscode": {
   "interpreter": {
    "hash": "6cdd458a31eba722ab7b98fdf16d48af2e10cc66366abf20948be409b0a7311f"
   }
  }
 },
 "nbformat": 4,
 "nbformat_minor": 2
}
