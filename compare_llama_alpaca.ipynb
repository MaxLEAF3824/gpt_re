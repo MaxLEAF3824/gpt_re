{
 "cells": [
  {
   "cell_type": "code",
   "execution_count": 29,
   "metadata": {},
   "outputs": [],
   "source": [
    "import pytorch_lightning as pl\n",
    "import torch\n",
    "from model.model_interface import LLM\n",
    "from dataset.knowns import Knowns\n",
    "import torch.utils.data as tud\n",
    "from lightning.pytorch.loggers import TensorBoardLogger\n",
    "import torch.nn.functional as F\n",
    "from gpthook import TraceDict\n",
    "import os \n",
    "import random\n",
    "from tqdm.notebook import tqdm"
   ]
  },
  {
   "cell_type": "code",
   "execution_count": 34,
   "metadata": {},
   "outputs": [],
   "source": [
    "# LLM Config\n",
    "llm1_config = {\n",
    "    \"model_name\": \"decapoda-research/llama-7b-hf\",\n",
    "}\n",
    "llm2_config = {\n",
    "    \"model_name\": \"/nvme/yangyuchen1/coding/stanford_alpaca-main/output/alpaca_cp0329\",\n",
    "}\n",
    "llm3_config = {\n",
    "    \"model_name\": \"gpt2\",\n",
    "}\n",
    "\n",
    "# Dataset conf\n",
    "dst= [\"Do mitochondria play a role in remodelling lace plant leaves during programmed cell death? The answer is\"]\n",
    "# Trainer config\n",
    "trainer_config = {\n",
    "    \"precision\" : \"16-mixed\",\n",
    "    \"accelerator\" : \"auto\",\n",
    "    \"devices\" : 1,\n",
    "}\n",
    "torch.set_float32_matmul_precision('medium')\n",
    "os.environ['TOKENIZERS_PARALLELISM'] = 'true'"
   ]
  },
  {
   "cell_type": "code",
   "execution_count": 35,
   "metadata": {},
   "outputs": [
    {
     "data": {
      "application/vnd.jupyter.widget-view+json": {
       "model_id": "067b6eabf2b0433187817fcae3ecd9fa",
       "version_major": 2,
       "version_minor": 0
      },
      "text/plain": [
       "Loading checkpoint shards:   0%|          | 0/3 [00:00<?, ?it/s]"
      ]
     },
     "metadata": {},
     "output_type": "display_data"
    },
    {
     "data": {
      "application/vnd.jupyter.widget-view+json": {
       "model_id": "2ac026b9e63344f992395ff6d6167f63",
       "version_major": 2,
       "version_minor": 0
      },
      "text/plain": [
       "Loading checkpoint shards:   0%|          | 0/2 [00:00<?, ?it/s]"
      ]
     },
     "metadata": {},
     "output_type": "display_data"
    }
   ],
   "source": [
    "alpaca = LLM(**llm2_config)\n",
    "llama = LLM(**llm1_config)\n",
    "gpt2 = LLM(**llm3_config)"
   ]
  },
  {
   "cell_type": "code",
   "execution_count": 37,
   "metadata": {},
   "outputs": [
    {
     "name": "stderr",
     "output_type": "stream",
     "text": [
      "Setting `pad_token_id` to `eos_token_id`:50256 for open-end generation.\n"
     ]
    }
   ],
   "source": [
    "alpaca_answer = alpaca.generate(dst, max_new_tokens=200)[0]\n",
    "llama_answer = llama.generate(dst, max_new_tokens=200)[0]\n",
    "gpt2_answer = gpt2.generate(dst, max_new_tokens=200)[0]"
   ]
  },
  {
   "cell_type": "code",
   "execution_count": 38,
   "metadata": {},
   "outputs": [
    {
     "name": "stdout",
     "output_type": "stream",
     "text": [
      "alpaca answer: \n",
      " Do mitochondria play a role in remodelling lace plant leaves during programmed cell death? The answer is yes, according to a new study published in the open-access journal PLOS ONE by David Salt of the University of Sheffield, UK, and colleagues. The researchers found that mitochondria are involved in the process of cellular remodelling in lace plant leaves, which is a necessary step in the programmed cell death process.\n",
      "The lace plant (Agave americana) is a type of agave, a large family of flowering plants that includes the iconic Mexican tequila plant. Lace plants are notable for their distinctive, fan-like leaves, which can reach up to two meters in width. The lace plant is also notable for its remarkable programmed cell death process, in which the leaves undergo a series of physical and chemical changes before they are eventually cast off by the plant.\n",
      "In their study, Salt and colleagues used a combination of light and electron microscopy, as well as biochemical\n"
     ]
    }
   ],
   "source": [
    "print(f\"alpaca answer: \\n{alpaca_answer}\")"
   ]
  },
  {
   "cell_type": "code",
   "execution_count": 39,
   "metadata": {},
   "outputs": [
    {
     "name": "stdout",
     "output_type": "stream",
     "text": [
      "llama answer: \n",
      " Do mitochondria play a role in remodelling lace plant leaves during programmed cell death? The answer is yes!\n",
      "The lace plant (Ceratopteris thalictroides) is a popular houseplant that is often used as a model system to study plant development and programmed cell death. The leaves of this plant are highly variable in shape and size, and can be remodelled by the plant to adapt to environmental conditions. The leaf shape is determined by the position of the leaf veins, which are controlled by the position of the leaf margins. The leaf margins are controlled by the position of the leaf lamina, which is controlled by the position of the leaf blade. The leaf blade is controlled by the position of the leaf petiole, which is controlled by the position of the leaf stalk. The leaf stalk is controlled by the position of the leaf base, which is controlled by the position of the leaf sheath. The leaf sheath is controlled by the position of the leaf axis, which is controlled by the position of the\n"
     ]
    }
   ],
   "source": [
    "print(f\"llama answer: \\n{llama_answer}\")"
   ]
  },
  {
   "cell_type": "code",
   "execution_count": 40,
   "metadata": {},
   "outputs": [
    {
     "name": "stdout",
     "output_type": "stream",
     "text": [
      "gpt2 answer: \n",
      "Do mitochondria play a role in remodelling lace plant leaves during programmed cell death? The answer is that the mitochondria are not the only ones involved in the production of the plant's leaves. The mitochondria also play a role in the production of the plant's leaves.\n",
      "\n",
      "The mitochondria are the main source of energy for the plant. The mitochondria are the main source of energy for the plant.\n",
      "\n",
      "The mitochondria are the main source of energy for the plant.\n",
      "\n",
      "The mitochondria are the main source of energy for the plant.\n",
      "\n",
      "The mitochondria are the main source of energy for the plant.\n",
      "\n",
      "The mitochondria are the main source of energy for the plant.\n",
      "\n",
      "The mitochondria are the main source of energy for the plant.\n",
      "\n",
      "The mitochondria are the main source of energy for the plant.\n",
      "\n",
      "The mitochondria are the main source of energy for the plant.\n",
      "\n",
      "The mitochondria are the main source of energy for the plant.\n",
      "\n",
      "The mitochondria are the main source of energy for the plant.\n",
      "\n",
      "\n"
     ]
    }
   ],
   "source": [
    "print(f\"gpt2 answer: \\n{gpt2_answer}\")"
   ]
  }
 ],
 "metadata": {
  "kernelspec": {
   "display_name": "hug42",
   "language": "python",
   "name": "python3"
  },
  "language_info": {
   "codemirror_mode": {
    "name": "ipython",
    "version": 3
   },
   "file_extension": ".py",
   "mimetype": "text/x-python",
   "name": "python",
   "nbconvert_exporter": "python",
   "pygments_lexer": "ipython3",
   "version": "3.8.16"
  },
  "orig_nbformat": 4
 },
 "nbformat": 4,
 "nbformat_minor": 2
}
