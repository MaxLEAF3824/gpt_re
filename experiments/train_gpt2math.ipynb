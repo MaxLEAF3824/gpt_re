{
 "cells": [
  {
   "cell_type": "code",
   "execution_count": null,
   "metadata": {},
   "outputs": [],
   "source": [
    "import os \n",
    "import sys\n",
    "sys.path.append(os.path.join(os.getcwd(), '..'))\n",
    "import pytorch_lightning as pl\n",
    "from model.model_interface import LLM\n",
    "from dataset.addition import Addition\n",
    "import torch.utils.data as tud\n",
    "from lightning.pytorch.loggers import TensorBoardLogger\n",
    "import os \n",
    "import random\n"
   ]
  },
  {
   "attachments": {},
   "cell_type": "markdown",
   "metadata": {},
   "source": [
    "生成训练测试集"
   ]
  },
  {
   "cell_type": "code",
   "execution_count": null,
   "metadata": {},
   "outputs": [],
   "source": [
    "ub = 3\n",
    "data_size = 200000\n",
    "test_size = 0.6\n",
    "lines = set()\n",
    "\n",
    "# for i in range(10**ub):\n",
    "#     for j in range(10**ub-i):\n",
    "#         i = str(i).zfill(ub)\n",
    "#         lines.add(f'{i}+{j}={i+j})\n",
    "while len(lines) < data_size:\n",
    "    l1 = random.randint(1, ub)\n",
    "    l2 = random.randint(1, ub)\n",
    "    a = random.randint(10**(l1-1), 10**l1-1)\n",
    "    b_ub = 10**(ub) - a - 1\n",
    "    b = random.randint(min(10**(l2-1), b_ub), min(10**l2, b_ub))\n",
    "    c = a+b\n",
    "    a = str(a).zfill(ub)\n",
    "    b = str(b).zfill(ub)\n",
    "    c = str(c).zfill(ub)\n",
    "    lines.add(f'{a}+{b}={c}\\n')\n",
    "\n",
    "lines = list(lines)\n",
    "random.shuffle(lines)\n",
    "with open(f'data/train_{ub}_zfill.txt','w') as f:\n",
    "    f.writelines(lines[int(len(lines)*test_size):])\n",
    "with open(f'data/test_{ub}_zfill.txt','w') as f:\n",
    "    f.writelines(lines[:int(len(lines)*test_size)])"
   ]
  },
  {
   "attachments": {},
   "cell_type": "markdown",
   "metadata": {},
   "source": [
    "训练配置"
   ]
  },
  {
   "cell_type": "code",
   "execution_count": null,
   "metadata": {},
   "outputs": [],
   "source": [
    "# LLM Config\n",
    "llm_config = {\n",
    "    \"model_name\": \"gpt2math_small\",\n",
    "    \"optimizer\": \"adam_w\",\n",
    "    \"weight_decay\": 1.0,\n",
    "    \"lr\": 1e-4,\n",
    "}\n",
    "\n",
    "# Dataset config\n",
    "dl_config = {\n",
    "    \"batch_size\": 1024,\n",
    "    \"num_workers\": 0,\n",
    "}\n",
    "data_dir= \"data\"\n",
    "train_file= \"train_2_zfill.txt\"\n",
    "test_file= \"test_2_zfill.txt\"\n",
    "\n",
    "# Trainer config\n",
    "trainer_config = {\n",
    "    \"precision\" : \"16-mixed\",\n",
    "    \"accelerator\" : \"auto\",\n",
    "    \"devices\" : 1,\n",
    "    \"max_epochs\": 500,\n",
    "}"
   ]
  },
  {
   "attachments": {},
   "cell_type": "markdown",
   "metadata": {},
   "source": [
    "初始化模型，加载数据集，训练器"
   ]
  },
  {
   "cell_type": "code",
   "execution_count": null,
   "metadata": {},
   "outputs": [],
   "source": [
    "mt = LLM(**llm_config)\n",
    "train_dl = tud.DataLoader(Addition(f\"{data_dir}/{train_file}\", mt.tokenizer), shuffle=True, **dl_config )\n",
    "test_dl = tud.DataLoader(Addition(f\"{data_dir}/{test_file}\", mt.tokenizer), shuffle=False, **dl_config)\n",
    "# default logger used by trainer (if tensorboard is installed)\n",
    "logger = TensorBoardLogger(save_dir=os.getcwd(), version=1, name=\"lightning_logs\")\n",
    "trainer = pl.Trainer(**trainer_config, logger=logger)"
   ]
  },
  {
   "attachments": {},
   "cell_type": "markdown",
   "metadata": {},
   "source": [
    "开始训练！"
   ]
  },
  {
   "cell_type": "code",
   "execution_count": null,
   "metadata": {},
   "outputs": [],
   "source": [
    "trainer.fit(mt,train_dl,test_dl,)"
   ]
  },
  {
   "attachments": {},
   "cell_type": "markdown",
   "metadata": {},
   "source": [
    "测试"
   ]
  },
  {
   "cell_type": "code",
   "execution_count": null,
   "metadata": {},
   "outputs": [],
   "source": [
    "test_res = trainer.test(mt,test_dl,)"
   ]
  }
 ],
 "metadata": {
  "kernelspec": {
   "display_name": "hug42",
   "language": "python",
   "name": "python3"
  },
  "language_info": {
   "codemirror_mode": {
    "name": "ipython",
    "version": 3
   },
   "file_extension": ".py",
   "mimetype": "text/x-python",
   "name": "python",
   "nbconvert_exporter": "python",
   "pygments_lexer": "ipython3",
   "version": "3.8.16"
  },
  "orig_nbformat": 4
 },
 "nbformat": 4,
 "nbformat_minor": 2
}
