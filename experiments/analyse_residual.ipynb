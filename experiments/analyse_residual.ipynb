{
 "cells": [
  {
   "attachments": {},
   "cell_type": "markdown",
   "metadata": {},
   "source": [
    "LLM控制面板"
   ]
  },
  {
   "cell_type": "code",
   "execution_count": 1,
   "metadata": {},
   "outputs": [
    {
     "data": {
      "application/vnd.jupyter.widget-view+json": {
       "model_id": "ddbe218f7a1949aba358c135d291d6c2",
       "version_major": 2,
       "version_minor": 0
      },
      "text/plain": [
       "LLMPanel(children=(HBox(children=(Dropdown(description='Model:', options=(('gpt2', '/home/cs/yangyuchen/guoyiq…"
      ]
     },
     "metadata": {},
     "output_type": "display_data"
    },
    {
     "name": "stderr",
     "output_type": "stream",
     "text": [
      "Using pad_token, but it is not set yet.\n"
     ]
    },
    {
     "name": "stdout",
     "output_type": "stream",
     "text": [
      "Everything is ready. Time cost: 3.82s\n"
     ]
    }
   ],
   "source": [
    "import sys\n",
    "sys.path.append(\"../\")\n",
    "from model import *\n",
    "from IPython.display import display\n",
    "\n",
    "# import os\n",
    "# os.environ['CUDA_VISIBLE_DEVICES'] = '6'\n",
    "\n",
    "vicuna_chat_template = \"A chat between a curious user and an artificial intelligence assistant. The assistant gives helpful, detailed, and polite answers to the user's questions.\\n\\n##USER:\\n{}\\n\\n##ASSISTANT:\\n\"\n",
    "internlm_chat_template = \"<|User|>:{}<eoh>\\n<|Bot|>:\"\n",
    "\n",
    "panel = LLMPanel(\n",
    "    model_list=[\n",
    "        (\"gpt2\", \"/home/cs/yangyuchen/guoyiqiu/my_models/gpt2\"),\n",
    "        (\"llama_7b\", \"/home/cs/yangyuchen/yushengliao/Medical_LLM/llama-7b-hf\"),\n",
    "        (\"llama_13b\", \"/home/cs/yangyuchen/yushengliao/Medical_LLM/llama-13b\"),\n",
    "        (\"llama-2-7b-chat\", \"/home/cs/yangyuchen/yushengliao/Medical_LLM/llama-2-7b-chat-hugging\"),\n",
    "        (\"llama-2-13b-chat\", \"/home/cs/yangyuchen/guoyiqiu/my_models/Llama-2-13b-chat-ms\"),\n",
    "        (\"vicuna_7b\", \"/home/cs/yangyuchen/yushengliao/Medical_LLM/vicuna-7b/\"),\n",
    "        (\"internlm-chat-7b\", \"/home/cs/yangyuchen/yushengliao/Medical_LLM/internlm-chat-7b\"),\n",
    "        (\"internlm-chat-20b\", \"/home/cs/yangyuchen/guoyiqiu/my_models/internlm-chat-20b\")\n",
    "        ],\n",
    "    chat_template=internlm_chat_template)\n",
    "display(panel)\n",
    "panel.setup_btn.click()\n",
    "panel.device_tbtn.value = 'cuda'"
   ]
  },
  {
   "attachments": {},
   "cell_type": "markdown",
   "metadata": {},
   "source": [
    "FlowVisualizer"
   ]
  },
  {
   "cell_type": "code",
   "execution_count": 2,
   "metadata": {},
   "outputs": [
    {
     "name": "stderr",
     "output_type": "stream",
     "text": [
      "Setting `pad_token_id` to `eos_token_id`:50256 for open-end generation.\n"
     ]
    }
   ],
   "source": [
    "tab1,tab2 = panel.mt.vis_sentence('hello world')"
   ]
  }
 ],
 "metadata": {
  "kernelspec": {
   "display_name": "hug42",
   "language": "python",
   "name": "python3"
  },
  "language_info": {
   "codemirror_mode": {
    "name": "ipython",
    "version": 3
   },
   "file_extension": ".py",
   "mimetype": "text/x-python",
   "name": "python",
   "nbconvert_exporter": "python",
   "pygments_lexer": "ipython3",
   "version": "3.9.16"
  },
  "orig_nbformat": 4,
  "vscode": {
   "interpreter": {
    "hash": "6cdd458a31eba722ab7b98fdf16d48af2e10cc66366abf20948be409b0a7311f"
   }
  }
 },
 "nbformat": 4,
 "nbformat_minor": 2
}
