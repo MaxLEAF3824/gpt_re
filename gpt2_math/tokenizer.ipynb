{
 "cells": [
  {
   "cell_type": "code",
   "execution_count": 25,
   "metadata": {},
   "outputs": [],
   "source": [
    "\n",
    "import ujson as json\n",
    "\n",
    "vocab = {\"0\": 0, \"1\": 1, \"2\": 2, \"3\": 3, \"4\": 4, \"5\": 5, \"6\": 6,\n",
    "              \"7\": 7, \"8\": 8, \"9\": 9, \"+\": 10, \"=\": 11, \"<|endoftext|>\": 12}\n",
    "\n",
    "vocab_file = \"/mnt/petrelfs/guoyiqiu/coding/huggingface_models/gpt2-math/small/config.json\"\n",
    "merges_file = \"/mnt/petrelfs/guoyiqiu/coding/huggingface_models/gpt2-math/small/merges.txt\"\n",
    "\n",
    "json.dump(vocab,open(vocab_file,\"w\"))"
   ]
  },
  {
   "cell_type": "code",
   "execution_count": 1,
   "metadata": {},
   "outputs": [
    {
     "data": {
      "text/plain": [
       "{'input_ids': tensor([[ 1, 10,  1, 11, 13, 13],\n",
       "        [ 1,  0, 10,  2,  0, 11]]), 'attention_mask': tensor([[1, 1, 1, 1, 0, 0],\n",
       "        [1, 1, 1, 1, 1, 1]])}"
      ]
     },
     "execution_count": 1,
     "metadata": {},
     "output_type": "execute_result"
    }
   ],
   "source": [
    "from transformers import GPT2Tokenizer\n",
    "\n",
    "# tokenizer = GPT2Tokenizer(vocab_file, merges_file)\n",
    "# tokenizer.add_special_tokens({'pad_token': '[PAD]'})\n",
    "# tokenizer.save_pretrained(\"/mnt/petrelfs/guoyiqiu/coding/huggingface_models/gpt2-math/small\")\n",
    "tokenizer = GPT2Tokenizer.from_pretrained(\"/mnt/petrelfs/guoyiqiu/coding/huggingface_models/gpt2-math/small\")\n",
    "tokenizer.batch_encode_plus([\"1+1=\",\"10+20=\"], return_tensors=\"pt\", padding=True)"
   ]
  },
  {
   "cell_type": "code",
   "execution_count": 33,
   "metadata": {},
   "outputs": [
    {
     "data": {
      "text/plain": [
       "[11]"
      ]
     },
     "execution_count": 33,
     "metadata": {},
     "output_type": "execute_result"
    }
   ],
   "source": [
    "tokenizer.encode(\"=\")"
   ]
  }
 ],
 "metadata": {
  "kernelspec": {
   "display_name": "Python 3.8.13",
   "language": "python",
   "name": "python3"
  },
  "language_info": {
   "codemirror_mode": {
    "name": "ipython",
    "version": 3
   },
   "file_extension": ".py",
   "mimetype": "text/x-python",
   "name": "python",
   "nbconvert_exporter": "python",
   "pygments_lexer": "ipython3",
   "version": "3.8.13"
  },
  "orig_nbformat": 4,
  "vscode": {
   "interpreter": {
    "hash": "4e1a11ff5995cc5333f8d904909a3b7c0e64e81390949d6bac0bc9a5e803f565"
   }
  }
 },
 "nbformat": 4,
 "nbformat_minor": 2
}
