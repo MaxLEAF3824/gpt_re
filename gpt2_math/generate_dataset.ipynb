{
 "cells": [
  {
   "cell_type": "code",
   "execution_count": 47,
   "metadata": {},
   "outputs": [],
   "source": [
    "import random\n",
    "\n",
    "ub = 2\n",
    "data_size = 4500\n",
    "test_size = 0.6\n",
    "lines = set()\n",
    "\n",
    "# for i in range(10**ub):\n",
    "#     for j in range(10**ub-i):\n",
    "#         i = str(i).zfill(ub)\n",
    "#         lines.add(f'{i}+{j}={i+j})\n",
    "while len(lines) < data_size:\n",
    "    l1 = random.randint(1, ub)\n",
    "    l2 = random.randint(1, ub)\n",
    "    a = random.randint(10**(l1-1), 10**l1-1)\n",
    "    b_ub = 10**(ub) - a - 1\n",
    "    b = random.randint(min(10**(l2-1), b_ub), min(10**l2, b_ub))\n",
    "    c = a+b\n",
    "    a = str(a).zfill(ub)\n",
    "    b = str(b).zfill(ub)\n",
    "    c = str(c).zfill(ub)\n",
    "    lines.add(f'{a}+{b}={c}\\n')\n",
    "\n",
    "lines = list(lines)\n",
    "random.shuffle(lines)\n",
    "with open(f'data/train_{ub}_zfill.txt','w') as f:\n",
    "    f.writelines(lines[int(len(lines)*test_size):])\n",
    "with open(f'data/test_{ub}_zfill.txt','w') as f:\n",
    "    f.writelines(lines[:int(len(lines)*test_size)])"
   ]
  }
 ],
 "metadata": {
  "kernelspec": {
   "display_name": "Python 3.8.13",
   "language": "python",
   "name": "python3"
  },
  "language_info": {
   "codemirror_mode": {
    "name": "ipython",
    "version": 3
   },
   "file_extension": ".py",
   "mimetype": "text/x-python",
   "name": "python",
   "nbconvert_exporter": "python",
   "pygments_lexer": "ipython3",
   "version": "3.8.13"
  },
  "orig_nbformat": 4,
  "vscode": {
   "interpreter": {
    "hash": "4e1a11ff5995cc5333f8d904909a3b7c0e64e81390949d6bac0bc9a5e803f565"
   }
  }
 },
 "nbformat": 4,
 "nbformat_minor": 2
}
