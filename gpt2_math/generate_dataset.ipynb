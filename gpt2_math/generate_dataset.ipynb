{
 "cells": [
  {
   "cell_type": "code",
   "execution_count": 12,
   "metadata": {},
   "outputs": [],
   "source": [
    "import random\n",
    "\n",
    "ub = 5\n",
    "data_size = 100000\n",
    "test_size = 0.2\n",
    "lines = []\n",
    "\n",
    "for i in range(data_size):\n",
    "    l1 = random.randint(1, ub)\n",
    "    l2 = random.randint(1, ub)\n",
    "    a = random.randint(10**(l1-1), 10**l1)\n",
    "    b = random.randint(10**(l2-1), 10**l2)\n",
    "    lines.append(f'{a}+{b}={a+b}\\n')\n",
    "\n",
    "random.shuffle(lines)\n",
    "with open(f'data/train_{ub}.txt','w') as f:\n",
    "    f.writelines(lines[int(len(lines)*test_size):])\n",
    "with open(f'data/test_{ub}.txt','w') as f:\n",
    "    f.writelines(lines[:int(len(lines)*test_size)])"
   ]
  },
  {
   "cell_type": "code",
   "execution_count": null,
   "metadata": {},
   "outputs": [],
   "source": []
  }
 ],
 "metadata": {
  "kernelspec": {
   "display_name": "Python 3.8.13",
   "language": "python",
   "name": "python3"
  },
  "language_info": {
   "codemirror_mode": {
    "name": "ipython",
    "version": 3
   },
   "file_extension": ".py",
   "mimetype": "text/x-python",
   "name": "python",
   "nbconvert_exporter": "python",
   "pygments_lexer": "ipython3",
   "version": "3.8.13"
  },
  "orig_nbformat": 4,
  "vscode": {
   "interpreter": {
    "hash": "4e1a11ff5995cc5333f8d904909a3b7c0e64e81390949d6bac0bc9a5e803f565"
   }
  }
 },
 "nbformat": 4,
 "nbformat_minor": 2
}
