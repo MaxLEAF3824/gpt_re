{
 "cells": [
  {
   "cell_type": "code",
   "execution_count": 1,
   "metadata": {},
   "outputs": [
    {
     "name": "stdout",
     "output_type": "stream",
     "text": [
      "device:cuda\n"
     ]
    },
    {
     "name": "stderr",
     "output_type": "stream",
     "text": [
      "Failed to detect the name of this notebook, you can set it manually with the WANDB_NOTEBOOK_NAME environment variable to enable code saving.\n"
     ]
    },
    {
     "data": {
      "text/html": [
       "Tracking run with wandb version 0.13.1"
      ],
      "text/plain": [
       "<IPython.core.display.HTML object>"
      ]
     },
     "metadata": {},
     "output_type": "display_data"
    },
    {
     "data": {
      "text/html": [
       "W&B syncing is set to <code>`offline`<code> in this directory.  <br/>Run <code>`wandb online`<code> or set <code>WANDB_MODE=online<code> to enable cloud syncing."
      ],
      "text/plain": [
       "<IPython.core.display.HTML object>"
      ]
     },
     "metadata": {},
     "output_type": "display_data"
    },
    {
     "name": "stdout",
     "output_type": "stream",
     "text": [
      "training length =  1\n",
      "testing length =  1\n"
     ]
    }
   ],
   "source": [
    "from train_gpt import *\n",
    "\n",
    "world = Trainer(Config())\n",
    "acc, wrong = world.eval_model(world.test)\n"
   ]
  },
  {
   "cell_type": "code",
   "execution_count": 3,
   "metadata": {},
   "outputs": [
    {
     "name": "stdout",
     "output_type": "stream",
     "text": [
      "[PAD] [PAD] 78+02=70\n",
      "[PAD] [PAD] 05+04=08\n",
      "[PAD] [PAD] 80+10=80\n",
      "[PAD] [PAD] 20+10=20\n",
      "[PAD] [PAD] 14+66=70\n",
      "[PAD] [PAD] 48+09=67\n",
      "[PAD] [PAD] 01+08=08\n",
      "[PAD] [PAD] 66+03=79\n",
      "[PAD] [PAD] 35+35=60\n",
      "[PAD] [PAD] 25+15=30\n",
      "[PAD] [PAD] 09+49=68\n",
      "[PAD] [PAD] 15+65=70\n",
      "[PAD] [PAD] 47+12=69\n",
      "[PAD] [PAD] 55+34=99\n",
      "[PAD] [PAD] 26+23=59\n",
      "[PAD] [PAD] 12+26=48\n",
      "[PAD] [PAD] 16+44=50\n",
      "[PAD] [PAD] 48+11=69\n",
      "[PAD] [PAD] 49+09=68\n",
      "[PAD] [PAD] 04+03=06\n",
      "[PAD] [PAD] 65+15=70\n",
      "[PAD] [PAD] 02+02=03\n",
      "[PAD] [PAD] 06+43=59\n",
      "[PAD] [PAD] 04+76=70\n",
      "[PAD] [PAD] 01+18=29\n",
      "[PAD] [PAD] 23+16=49\n",
      "[PAD] [PAD] 49+41=80\n",
      "[PAD] [PAD] 02+78=70\n",
      "[PAD] [PAD] 07+02=08\n",
      "[PAD] [PAD] 39+31=60\n",
      "[PAD] [PAD] 49+10=69\n",
      "[PAD] [PAD] 32+17=59\n",
      "[PAD] [PAD] 06+03=08\n",
      "[PAD] [PAD] 05+25=20\n",
      "[PAD] [PAD] 46+14=50\n",
      "[PAD] [PAD] 46+34=70\n",
      "[PAD] [PAD] 08+72=70\n",
      "[PAD] [PAD] 04+01=06\n",
      "[PAD] [PAD] 20+20=20\n",
      "[PAD] [PAD] 16+64=70\n",
      "[PAD] [PAD] 76+04=70\n",
      "[PAD] [PAD] 54+35=99\n",
      "[PAD] [PAD] 03+06=08\n",
      "[PAD] [PAD] 31+09=30\n",
      "[PAD] [PAD] 03+66=79\n",
      "[PAD] [PAD] 02+07=08\n",
      "[PAD] [PAD] 60+19=89\n",
      "[PAD] [PAD] 59+20=89\n",
      "[PAD] [PAD] 38+32=60\n",
      "[PAD] [PAD] 35+54=99\n",
      "[PAD] [PAD] 02+28=20\n",
      "[PAD] [PAD] 27+12=49\n",
      "[PAD] [PAD] 18+71=99\n",
      "[PAD] [PAD] 24+56=70\n",
      "[PAD] [PAD] 15+25=30\n",
      "[PAD] [PAD] 45+15=50\n",
      "[PAD] [PAD] 29+31=50\n",
      "[PAD] [PAD] 41+18=69\n",
      "[PAD] [PAD] 01+06=08\n",
      "[PAD] [PAD] 35+05=30\n",
      "[PAD] [PAD] 13+17=20\n",
      "[PAD] [PAD] 08+01=08\n",
      "[PAD] [PAD] 40+19=69\n",
      "[PAD] [PAD] 17+13=20\n",
      "[PAD] [PAD] 72+08=70\n",
      "[PAD] [PAD] 22+58=70\n",
      "[PAD] [PAD] 23+26=59\n",
      "[PAD] [PAD] 04+26=20\n",
      "[PAD] [PAD] 55+05=50\n",
      "[PAD] [PAD] 01+01=03\n",
      "[PAD] [PAD] 09+50=69\n",
      "[PAD] [PAD] 09+48=67\n",
      "[PAD] [PAD] 02+05=08\n",
      "[PAD] [PAD] 10+09=29\n",
      "[PAD] [PAD] 16+23=49\n",
      "[PAD] [PAD] 43+06=59\n",
      "[PAD] [PAD] 15+45=50\n",
      "[PAD] [PAD] 11+08=29\n",
      "[PAD] [PAD] 13+16=39\n",
      "[PAD] [PAD] 03+04=06\n",
      "[PAD] [PAD] 12+27=49\n",
      "[PAD] [PAD] 16+13=39\n",
      "[PAD] [PAD] 05+01=08\n",
      "[PAD] [PAD] 31+39=60\n",
      "[PAD] [PAD] 46+03=59\n",
      "[PAD] [PAD] 13+26=49\n",
      "[PAD] [PAD] 05+55=50\n",
      "[PAD] [PAD] 22+16=48\n",
      "[PAD] [PAD] 20+59=89\n",
      "[PAD] [PAD] 54+26=70\n",
      "[PAD] [PAD] 49+08=67\n",
      "[PAD] [PAD] 26+12=48\n",
      "[PAD] [PAD] 06+74=70\n",
      "[PAD] [PAD] 05+02=08\n",
      "[PAD] [PAD] 03+02=08\n",
      "[PAD] [PAD] 69+10=89\n",
      "[PAD] [PAD] 06+01=08\n",
      "[PAD] [PAD] 25+25=40\n",
      "[PAD] [PAD] 18+01=29\n",
      "[PAD] [PAD] 07+49=66\n",
      "[PAD] [PAD] 38+51=99\n",
      "[PAD] [PAD] 44+36=70\n",
      "[PAD] [PAD] 08+11=29\n",
      "[PAD] [PAD] 19+40=69\n",
      "[PAD] [PAD] 30+20=60\n",
      "[PAD] [PAD] 64+16=70\n",
      "[PAD] [PAD] 26+13=49\n",
      "[PAD] [PAD] 05+35=30\n",
      "[PAD] [PAD] 02+03=08\n",
      "[PAD] [PAD] 04+05=19\n",
      "[PAD] [PAD] 50+09=69\n",
      "[PAD] [PAD] 65+25=80\n",
      "[PAD] [PAD] 11+48=69\n",
      "[PAD] [PAD] 66+14=70\n",
      "[PAD] [PAD] 37+12=59\n",
      "[PAD] [PAD] 25+65=80\n",
      "[PAD] [PAD] 19+60=89\n",
      "[PAD] [PAD] 29+11=30\n",
      "[PAD] [PAD] 59+11=60\n",
      "[PAD] [PAD] 56+24=70\n",
      "[PAD] [PAD] 50+29=89\n",
      "[PAD] [PAD] 03+03=04\n",
      "[PAD] [PAD] 06+63=79\n",
      "[PAD] [PAD] 21+19=30\n",
      "[PAD] [PAD] 20+30=60\n",
      "[PAD] [PAD] 74+06=70\n",
      "[PAD] [PAD] 01+05=08\n",
      "[PAD] [PAD] 09+10=29\n",
      "[PAD] [PAD] 25+35=50\n",
      "[PAD] [PAD] 01+04=06\n",
      "[PAD] [PAD] 21+39=50\n",
      "[PAD] [PAD] 08+49=67\n",
      "[PAD] [PAD] 35+25=50\n",
      "[PAD] [PAD] 32+38=60\n",
      "[PAD] [PAD] 14+46=50\n",
      "[PAD] [PAD] 03+46=59\n",
      "[PAD] [PAD] 18+41=69\n",
      "[PAD] [PAD] 63+06=79\n",
      "[PAD] [PAD] 04+04=06\n",
      "[PAD] [PAD] 10+20=20\n",
      "[PAD] [PAD] 06+24=20\n",
      "[PAD] [PAD] 51+19=60\n",
      "[PAD] [PAD] 11+29=30\n"
     ]
    }
   ],
   "source": [
    "for w in wrong:\n",
    "    print(w)"
   ]
  }
 ],
 "metadata": {
  "kernelspec": {
   "display_name": "hug42",
   "language": "python",
   "name": "python3"
  },
  "language_info": {
   "codemirror_mode": {
    "name": "ipython",
    "version": 3
   },
   "file_extension": ".py",
   "mimetype": "text/x-python",
   "name": "python",
   "nbconvert_exporter": "python",
   "pygments_lexer": "ipython3",
   "version": "3.8.13"
  },
  "orig_nbformat": 4
 },
 "nbformat": 4,
 "nbformat_minor": 2
}
